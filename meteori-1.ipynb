{
 "cells": [
  {
   "cell_type": "code",
   "execution_count": 1,
   "metadata": {},
   "outputs": [],
   "source": [
    "import urllib\n",
    "from bs4 import BeautifulSoup\n",
    "import pandas as pd\n",
    "import seaborn as sns"
   ]
  },
  {
   "cell_type": "code",
   "execution_count": 2,
   "metadata": {},
   "outputs": [],
   "source": [
    "path1 = \"https://www.lpi.usra.edu/meteor/metbull.php?sea=%2A&sfor=names&ants=&nwas=&falls=&valids=&stype=contains&lrec=50&map=ge&browse=&country=France&srt=name&categ=All&mblist=All&rect=&phot=&strewn=&snew=0&pnt=Normal%20table&dr=&page=1\"\n"
   ]
  },
  {
   "cell_type": "code",
   "execution_count": 3,
   "metadata": {},
   "outputs": [],
   "source": [
    "\n",
    "file4 = \"meteori-1-2.html\""
   ]
  },
  {
   "cell_type": "code",
   "execution_count": 4,
   "metadata": {},
   "outputs": [],
   "source": [
    "table = pd.read_html(file4)"
   ]
  },
  {
   "cell_type": "code",
   "execution_count": 5,
   "metadata": {},
   "outputs": [],
   "source": [
    "table = table[0]\n"
   ]
  },
  {
   "cell_type": "code",
   "execution_count": 6,
   "metadata": {},
   "outputs": [
    {
     "data": {
      "text/html": [
       "<div>\n",
       "<style scoped>\n",
       "    .dataframe tbody tr th:only-of-type {\n",
       "        vertical-align: middle;\n",
       "    }\n",
       "\n",
       "    .dataframe tbody tr th {\n",
       "        vertical-align: top;\n",
       "    }\n",
       "\n",
       "    .dataframe thead th {\n",
       "        text-align: right;\n",
       "    }\n",
       "</style>\n",
       "<table border=\"1\" class=\"dataframe\">\n",
       "  <thead>\n",
       "    <tr style=\"text-align: right;\">\n",
       "      <th></th>\n",
       "      <th>0</th>\n",
       "      <th>1</th>\n",
       "      <th>2</th>\n",
       "      <th>3</th>\n",
       "      <th>4</th>\n",
       "      <th>5</th>\n",
       "      <th>6</th>\n",
       "      <th>7</th>\n",
       "      <th>8</th>\n",
       "      <th>9</th>\n",
       "    </tr>\n",
       "  </thead>\n",
       "  <tbody>\n",
       "    <tr>\n",
       "      <th>0</th>\n",
       "      <td>Agen **</td>\n",
       "      <td>Official</td>\n",
       "      <td>Y</td>\n",
       "      <td>1814</td>\n",
       "      <td>Aquitaine, France</td>\n",
       "      <td>H5</td>\n",
       "      <td>30 kg</td>\n",
       "      <td>NaN</td>\n",
       "      <td>(44.427176, 0.498226)</td>\n",
       "      <td>NaN</td>\n",
       "    </tr>\n",
       "    <tr>\n",
       "      <th>1</th>\n",
       "      <td>Aire-sur-la-Lys **</td>\n",
       "      <td>Official</td>\n",
       "      <td>Y</td>\n",
       "      <td>1769</td>\n",
       "      <td>Nord-Pas-de-Calais, France</td>\n",
       "      <td>Unknown</td>\n",
       "      <td>6.8 kg</td>\n",
       "      <td>NaN</td>\n",
       "      <td>(50.609061, 2.486308)</td>\n",
       "      <td>NaN</td>\n",
       "    </tr>\n",
       "    <tr>\n",
       "      <th>2</th>\n",
       "      <td>Alais **</td>\n",
       "      <td>Official</td>\n",
       "      <td>Y</td>\n",
       "      <td>1806</td>\n",
       "      <td>Languedoc-Roussillon, France</td>\n",
       "      <td>CI1</td>\n",
       "      <td>6 kg</td>\n",
       "      <td>NaN</td>\n",
       "      <td>(44.057056, 4.184386)</td>\n",
       "      <td>NaN</td>\n",
       "    </tr>\n",
       "    <tr>\n",
       "      <th>3</th>\n",
       "      <td>Alby sur Chéran **</td>\n",
       "      <td>Official</td>\n",
       "      <td>Y</td>\n",
       "      <td>2002</td>\n",
       "      <td>Rhone-Alpes, France</td>\n",
       "      <td>Eucrite-mmict</td>\n",
       "      <td>252 g</td>\n",
       "      <td>88.0</td>\n",
       "      <td>(45.818611, 6.001111)</td>\n",
       "      <td>NaN</td>\n",
       "    </tr>\n",
       "    <tr>\n",
       "      <th>4</th>\n",
       "      <td>Angers **</td>\n",
       "      <td>Official</td>\n",
       "      <td>Y</td>\n",
       "      <td>1822</td>\n",
       "      <td>Pays de la Loire, France</td>\n",
       "      <td>L6</td>\n",
       "      <td>1007 g</td>\n",
       "      <td>NaN</td>\n",
       "      <td>(47.466670, -0.550000)</td>\n",
       "      <td>NaN</td>\n",
       "    </tr>\n",
       "  </tbody>\n",
       "</table>\n",
       "</div>"
      ],
      "text/plain": [
       "                    0         1  2     3                             4  \\\n",
       "0             Agen **  Official  Y  1814             Aquitaine, France   \n",
       "1  Aire-sur-la-Lys **  Official  Y  1769    Nord-Pas-de-Calais, France   \n",
       "2            Alais **  Official  Y  1806  Languedoc-Roussillon, France   \n",
       "3  Alby sur Chéran **  Official  Y  2002           Rhone-Alpes, France   \n",
       "4           Angers **  Official  Y  1822      Pays de la Loire, France   \n",
       "\n",
       "               5       6     7                       8    9  \n",
       "0             H5   30 kg   NaN   (44.427176, 0.498226)  NaN  \n",
       "1        Unknown  6.8 kg   NaN   (50.609061, 2.486308)  NaN  \n",
       "2            CI1    6 kg   NaN   (44.057056, 4.184386)  NaN  \n",
       "3  Eucrite-mmict   252 g  88.0   (45.818611, 6.001111)  NaN  \n",
       "4             L6  1007 g   NaN  (47.466670, -0.550000)  NaN  "
      ]
     },
     "execution_count": 6,
     "metadata": {},
     "output_type": "execute_result"
    }
   ],
   "source": [
    "table.head()"
   ]
  },
  {
   "cell_type": "code",
   "execution_count": 7,
   "metadata": {},
   "outputs": [
    {
     "data": {
      "text/plain": [
       "40"
      ]
     },
     "execution_count": 7,
     "metadata": {},
     "output_type": "execute_result"
    }
   ],
   "source": [
    "\n",
    "table.duplicated().sum()"
   ]
  },
  {
   "cell_type": "code",
   "execution_count": 8,
   "metadata": {},
   "outputs": [
    {
     "data": {
      "text/plain": [
       "(46.633330, 0.166670)       2\n",
       "(43.500000, 6.000000)       2\n",
       "(43.883330, 1.383330)       2\n",
       "(49.033330, -1.433330)      2\n",
       "(-21.733330, 165.900000)    2\n",
       "                           ..\n",
       "(47.500000, 7.316670)       1\n",
       "(44.383330, 2.816670)       1\n",
       "(46.250000, -1.100000)      1\n",
       "(48.154597, 6.588658)       1\n",
       "(47.700000, 1.066670)       1\n",
       "Name: 8, Length: 89, dtype: int64"
      ]
     },
     "execution_count": 8,
     "metadata": {},
     "output_type": "execute_result"
    }
   ],
   "source": [
    "table[8].value_counts(dropna=False)"
   ]
  },
  {
   "cell_type": "code",
   "execution_count": 9,
   "metadata": {},
   "outputs": [
    {
     "name": "stdout",
     "output_type": "stream",
     "text": [
      "89\n"
     ]
    }
   ],
   "source": [
    "table = table.drop_duplicates()\n",
    "print(len(table))"
   ]
  },
  {
   "cell_type": "code",
   "execution_count": 10,
   "metadata": {},
   "outputs": [
    {
     "name": "stdout",
     "output_type": "stream",
     "text": [
      "                 Name    Status Fall  Year                         Place  \\\n",
      "0             Agen **  Official    Y  1814             Aquitaine, France   \n",
      "1  Aire-sur-la-Lys **  Official    Y  1769    Nord-Pas-de-Calais, France   \n",
      "2            Alais **  Official    Y  1806  Languedoc-Roussillon, France   \n",
      "3  Alby sur Chéran **  Official    Y  2002           Rhone-Alpes, France   \n",
      "4           Angers **  Official    Y  1822      Pays de la Loire, France   \n",
      "\n",
      "            Type Mass_str  MetBull              (Lat,Long) Notes  \n",
      "0             H5    30 kg      NaN   (44.427176, 0.498226)   NaN  \n",
      "1        Unknown   6.8 kg      NaN   (50.609061, 2.486308)   NaN  \n",
      "2            CI1     6 kg      NaN   (44.057056, 4.184386)   NaN  \n",
      "3  Eucrite-mmict    252 g     88.0   (45.818611, 6.001111)   NaN  \n",
      "4             L6   1007 g      NaN  (47.466670, -0.550000)   NaN  \n"
     ]
    }
   ],
   "source": [
    "table.rename(columns={0: 'Name', 1: 'Status', 2: 'Fall', 3: 'Year', 4: 'Place', \n",
    "                5: 'Type', 6: 'Mass_str', 7: 'MetBull', 8: '(Lat,Long)', 9: 'Notes' }, inplace=True)\n",
    "print(table.head())  \n"
   ]
  },
  {
   "cell_type": "code",
   "execution_count": 11,
   "metadata": {},
   "outputs": [
    {
     "data": {
      "text/plain": [
       " kg    50\n",
       " g     31\n",
       "NaN     8\n",
       "Name: Units, dtype: int64"
      ]
     },
     "execution_count": 11,
     "metadata": {},
     "output_type": "execute_result"
    }
   ],
   "source": [
    "table[\"Units\"] = table[\"Mass_str\"].str.extract(r'( +\\w+$)')\n",
    "table[\"Units\"].value_counts(dropna=False)\n"
   ]
  },
  {
   "cell_type": "code",
   "execution_count": 12,
   "metadata": {},
   "outputs": [
    {
     "data": {
      "text/html": [
       "<div>\n",
       "<style scoped>\n",
       "    .dataframe tbody tr th:only-of-type {\n",
       "        vertical-align: middle;\n",
       "    }\n",
       "\n",
       "    .dataframe tbody tr th {\n",
       "        vertical-align: top;\n",
       "    }\n",
       "\n",
       "    .dataframe thead th {\n",
       "        text-align: right;\n",
       "    }\n",
       "</style>\n",
       "<table border=\"1\" class=\"dataframe\">\n",
       "  <thead>\n",
       "    <tr style=\"text-align: right;\">\n",
       "      <th></th>\n",
       "      <th>Name</th>\n",
       "      <th>Status</th>\n",
       "      <th>Fall</th>\n",
       "      <th>Year</th>\n",
       "      <th>Place</th>\n",
       "      <th>Type</th>\n",
       "      <th>Mass_str</th>\n",
       "      <th>MetBull</th>\n",
       "      <th>(Lat,Long)</th>\n",
       "      <th>Notes</th>\n",
       "      <th>Units</th>\n",
       "    </tr>\n",
       "  </thead>\n",
       "  <tbody>\n",
       "    <tr>\n",
       "      <th>14</th>\n",
       "      <td>Carpentras</td>\n",
       "      <td>Doubtful</td>\n",
       "      <td>Y</td>\n",
       "      <td>1738</td>\n",
       "      <td>Provence-Alpes-Cote d'Azur, France</td>\n",
       "      <td>Doubtful meteorite</td>\n",
       "      <td>NaN</td>\n",
       "      <td>NaN</td>\n",
       "      <td>(44.050000, 5.050000)</td>\n",
       "      <td>NaN</td>\n",
       "      <td>NaN</td>\n",
       "    </tr>\n",
       "    <tr>\n",
       "      <th>22</th>\n",
       "      <td>Cormeilles</td>\n",
       "      <td>Pseudo</td>\n",
       "      <td>NaN</td>\n",
       "      <td>NaN</td>\n",
       "      <td>Ile-del-France, France</td>\n",
       "      <td>Pseudometeorite</td>\n",
       "      <td>NaN</td>\n",
       "      <td>NaN</td>\n",
       "      <td>(48.983330, 2.216670)</td>\n",
       "      <td>NaN</td>\n",
       "      <td>NaN</td>\n",
       "    </tr>\n",
       "    <tr>\n",
       "      <th>31</th>\n",
       "      <td>Grazac</td>\n",
       "      <td>Pseudo</td>\n",
       "      <td>Y</td>\n",
       "      <td>1885</td>\n",
       "      <td>Auvergne, France</td>\n",
       "      <td>Pseudometeorite</td>\n",
       "      <td>NaN</td>\n",
       "      <td>NaN</td>\n",
       "      <td>(45.183330, 4.283330)</td>\n",
       "      <td>NaN</td>\n",
       "      <td>NaN</td>\n",
       "    </tr>\n",
       "    <tr>\n",
       "      <th>33</th>\n",
       "      <td>Hautes Alpes</td>\n",
       "      <td>Pseudo</td>\n",
       "      <td>NaN</td>\n",
       "      <td>NaN</td>\n",
       "      <td>France</td>\n",
       "      <td>Pseudometeorite</td>\n",
       "      <td>NaN</td>\n",
       "      <td>NaN</td>\n",
       "      <td>NaN</td>\n",
       "      <td>NaN</td>\n",
       "      <td>NaN</td>\n",
       "    </tr>\n",
       "    <tr>\n",
       "      <th>46</th>\n",
       "      <td>Langeac</td>\n",
       "      <td>Pseudo</td>\n",
       "      <td>Y</td>\n",
       "      <td>NaN</td>\n",
       "      <td>Auvergne, France</td>\n",
       "      <td>Pseudometeorite</td>\n",
       "      <td>NaN</td>\n",
       "      <td>NaN</td>\n",
       "      <td>(45.100000, 3.516670)</td>\n",
       "      <td>NaN</td>\n",
       "      <td>NaN</td>\n",
       "    </tr>\n",
       "    <tr>\n",
       "      <th>51</th>\n",
       "      <td>Limousin</td>\n",
       "      <td>Doubtful</td>\n",
       "      <td>Y</td>\n",
       "      <td>1540</td>\n",
       "      <td>Limousin, France</td>\n",
       "      <td>Doubtful meteorite</td>\n",
       "      <td>NaN</td>\n",
       "      <td>NaN</td>\n",
       "      <td>(45.600000, 1.500000)</td>\n",
       "      <td>NaN</td>\n",
       "      <td>NaN</td>\n",
       "    </tr>\n",
       "    <tr>\n",
       "      <th>64</th>\n",
       "      <td>Nicorps</td>\n",
       "      <td>Official</td>\n",
       "      <td>Y</td>\n",
       "      <td>1750</td>\n",
       "      <td>Basse-Normandie, France</td>\n",
       "      <td>Stone-uncl</td>\n",
       "      <td>NaN</td>\n",
       "      <td>NaN</td>\n",
       "      <td>(49.033330, -1.433330)</td>\n",
       "      <td>NaN</td>\n",
       "      <td>NaN</td>\n",
       "    </tr>\n",
       "    <tr>\n",
       "      <th>70</th>\n",
       "      <td>Rochechouart **</td>\n",
       "      <td>Crater</td>\n",
       "      <td>NaN</td>\n",
       "      <td>201 Â± 2 Ma</td>\n",
       "      <td>Limousin, France</td>\n",
       "      <td>Impact Crater</td>\n",
       "      <td>NaN</td>\n",
       "      <td>NaN</td>\n",
       "      <td>(45.833330, 0.933330)</td>\n",
       "      <td>From EIDB</td>\n",
       "      <td>NaN</td>\n",
       "    </tr>\n",
       "  </tbody>\n",
       "</table>\n",
       "</div>"
      ],
      "text/plain": [
       "               Name    Status Fall         Year  \\\n",
       "14       Carpentras  Doubtful    Y         1738   \n",
       "22       Cormeilles    Pseudo  NaN          NaN   \n",
       "31           Grazac    Pseudo    Y         1885   \n",
       "33     Hautes Alpes    Pseudo  NaN          NaN   \n",
       "46          Langeac    Pseudo    Y          NaN   \n",
       "51         Limousin  Doubtful    Y         1540   \n",
       "64          Nicorps  Official    Y         1750   \n",
       "70  Rochechouart **    Crater  NaN  201 Â± 2 Ma   \n",
       "\n",
       "                                 Place                Type Mass_str  MetBull  \\\n",
       "14  Provence-Alpes-Cote d'Azur, France  Doubtful meteorite      NaN      NaN   \n",
       "22              Ile-del-France, France     Pseudometeorite      NaN      NaN   \n",
       "31                    Auvergne, France     Pseudometeorite      NaN      NaN   \n",
       "33                              France     Pseudometeorite      NaN      NaN   \n",
       "46                    Auvergne, France     Pseudometeorite      NaN      NaN   \n",
       "51                    Limousin, France  Doubtful meteorite      NaN      NaN   \n",
       "64             Basse-Normandie, France          Stone-uncl      NaN      NaN   \n",
       "70                    Limousin, France       Impact Crater      NaN      NaN   \n",
       "\n",
       "                (Lat,Long)      Notes Units  \n",
       "14   (44.050000, 5.050000)        NaN   NaN  \n",
       "22   (48.983330, 2.216670)        NaN   NaN  \n",
       "31   (45.183330, 4.283330)        NaN   NaN  \n",
       "33                     NaN        NaN   NaN  \n",
       "46   (45.100000, 3.516670)        NaN   NaN  \n",
       "51   (45.600000, 1.500000)        NaN   NaN  \n",
       "64  (49.033330, -1.433330)        NaN   NaN  \n",
       "70   (45.833330, 0.933330)  From EIDB   NaN  "
      ]
     },
     "execution_count": 12,
     "metadata": {},
     "output_type": "execute_result"
    }
   ],
   "source": [
    "table[table[\"Units\"].isnull()]  "
   ]
  },
  {
   "cell_type": "code",
   "execution_count": 13,
   "metadata": {},
   "outputs": [
    {
     "data": {
      "text/plain": [
       "Official       76\n",
       "Doubtful        5\n",
       "Pseudo          5\n",
       "Discredited     2\n",
       "Crater          1\n",
       "Name: Status, dtype: int64"
      ]
     },
     "execution_count": 13,
     "metadata": {},
     "output_type": "execute_result"
    }
   ],
   "source": [
    "table[\"Status\"].value_counts()"
   ]
  },
  {
   "cell_type": "code",
   "execution_count": 14,
   "metadata": {},
   "outputs": [
    {
     "data": {
      "text/html": [
       "<div>\n",
       "<style scoped>\n",
       "    .dataframe tbody tr th:only-of-type {\n",
       "        vertical-align: middle;\n",
       "    }\n",
       "\n",
       "    .dataframe tbody tr th {\n",
       "        vertical-align: top;\n",
       "    }\n",
       "\n",
       "    .dataframe thead th {\n",
       "        text-align: right;\n",
       "    }\n",
       "</style>\n",
       "<table border=\"1\" class=\"dataframe\">\n",
       "  <thead>\n",
       "    <tr style=\"text-align: right;\">\n",
       "      <th></th>\n",
       "      <th>Name</th>\n",
       "      <th>Status</th>\n",
       "      <th>Fall</th>\n",
       "      <th>Year</th>\n",
       "      <th>Place</th>\n",
       "      <th>Type</th>\n",
       "      <th>Mass_str</th>\n",
       "      <th>MetBull</th>\n",
       "      <th>(Lat,Long)</th>\n",
       "      <th>Notes</th>\n",
       "      <th>Units</th>\n",
       "    </tr>\n",
       "  </thead>\n",
       "  <tbody>\n",
       "    <tr>\n",
       "      <th>0</th>\n",
       "      <td>Agen **</td>\n",
       "      <td>Official</td>\n",
       "      <td>Y</td>\n",
       "      <td>1814</td>\n",
       "      <td>Aquitaine, France</td>\n",
       "      <td>H5</td>\n",
       "      <td>30 kg</td>\n",
       "      <td>NaN</td>\n",
       "      <td>(44.427176, 0.498226)</td>\n",
       "      <td>NaN</td>\n",
       "      <td>kg</td>\n",
       "    </tr>\n",
       "    <tr>\n",
       "      <th>1</th>\n",
       "      <td>Aire-sur-la-Lys **</td>\n",
       "      <td>Official</td>\n",
       "      <td>Y</td>\n",
       "      <td>1769</td>\n",
       "      <td>Nord-Pas-de-Calais, France</td>\n",
       "      <td>Unknown</td>\n",
       "      <td>6.8 kg</td>\n",
       "      <td>NaN</td>\n",
       "      <td>(50.609061, 2.486308)</td>\n",
       "      <td>NaN</td>\n",
       "      <td>kg</td>\n",
       "    </tr>\n",
       "    <tr>\n",
       "      <th>2</th>\n",
       "      <td>Alais **</td>\n",
       "      <td>Official</td>\n",
       "      <td>Y</td>\n",
       "      <td>1806</td>\n",
       "      <td>Languedoc-Roussillon, France</td>\n",
       "      <td>CI1</td>\n",
       "      <td>6 kg</td>\n",
       "      <td>NaN</td>\n",
       "      <td>(44.057056, 4.184386)</td>\n",
       "      <td>NaN</td>\n",
       "      <td>kg</td>\n",
       "    </tr>\n",
       "    <tr>\n",
       "      <th>3</th>\n",
       "      <td>Alby sur Chéran **</td>\n",
       "      <td>Official</td>\n",
       "      <td>Y</td>\n",
       "      <td>2002</td>\n",
       "      <td>Rhone-Alpes, France</td>\n",
       "      <td>Eucrite-mmict</td>\n",
       "      <td>252 g</td>\n",
       "      <td>88.0</td>\n",
       "      <td>(45.818611, 6.001111)</td>\n",
       "      <td>NaN</td>\n",
       "      <td>g</td>\n",
       "    </tr>\n",
       "    <tr>\n",
       "      <th>4</th>\n",
       "      <td>Angers **</td>\n",
       "      <td>Official</td>\n",
       "      <td>Y</td>\n",
       "      <td>1822</td>\n",
       "      <td>Pays de la Loire, France</td>\n",
       "      <td>L6</td>\n",
       "      <td>1007 g</td>\n",
       "      <td>NaN</td>\n",
       "      <td>(47.466670, -0.550000)</td>\n",
       "      <td>NaN</td>\n",
       "      <td>g</td>\n",
       "    </tr>\n",
       "  </tbody>\n",
       "</table>\n",
       "</div>"
      ],
      "text/plain": [
       "                 Name    Status Fall  Year                         Place  \\\n",
       "0             Agen **  Official    Y  1814             Aquitaine, France   \n",
       "1  Aire-sur-la-Lys **  Official    Y  1769    Nord-Pas-de-Calais, France   \n",
       "2            Alais **  Official    Y  1806  Languedoc-Roussillon, France   \n",
       "3  Alby sur Chéran **  Official    Y  2002           Rhone-Alpes, France   \n",
       "4           Angers **  Official    Y  1822      Pays de la Loire, France   \n",
       "\n",
       "            Type Mass_str  MetBull              (Lat,Long) Notes Units  \n",
       "0             H5    30 kg      NaN   (44.427176, 0.498226)   NaN    kg  \n",
       "1        Unknown   6.8 kg      NaN   (50.609061, 2.486308)   NaN    kg  \n",
       "2            CI1     6 kg      NaN   (44.057056, 4.184386)   NaN    kg  \n",
       "3  Eucrite-mmict    252 g     88.0   (45.818611, 6.001111)   NaN     g  \n",
       "4             L6   1007 g      NaN  (47.466670, -0.550000)   NaN     g  "
      ]
     },
     "execution_count": 14,
     "metadata": {},
     "output_type": "execute_result"
    }
   ],
   "source": [
    "table = table.dropna(subset=[\"Units\"])\n",
    "table.head()"
   ]
  },
  {
   "cell_type": "code",
   "execution_count": 15,
   "metadata": {},
   "outputs": [
    {
     "data": {
      "text/html": [
       "<div>\n",
       "<style scoped>\n",
       "    .dataframe tbody tr th:only-of-type {\n",
       "        vertical-align: middle;\n",
       "    }\n",
       "\n",
       "    .dataframe tbody tr th {\n",
       "        vertical-align: top;\n",
       "    }\n",
       "\n",
       "    .dataframe thead th {\n",
       "        text-align: right;\n",
       "    }\n",
       "</style>\n",
       "<table border=\"1\" class=\"dataframe\">\n",
       "  <thead>\n",
       "    <tr style=\"text-align: right;\">\n",
       "      <th></th>\n",
       "      <th>Name</th>\n",
       "      <th>Status</th>\n",
       "      <th>Fall</th>\n",
       "      <th>Year</th>\n",
       "      <th>Place</th>\n",
       "      <th>Type</th>\n",
       "      <th>Mass_str</th>\n",
       "      <th>MetBull</th>\n",
       "      <th>(Lat,Long)</th>\n",
       "      <th>Notes</th>\n",
       "      <th>Units</th>\n",
       "      <th>Mass</th>\n",
       "    </tr>\n",
       "  </thead>\n",
       "  <tbody>\n",
       "    <tr>\n",
       "      <th>0</th>\n",
       "      <td>Agen **</td>\n",
       "      <td>Official</td>\n",
       "      <td>Y</td>\n",
       "      <td>1814</td>\n",
       "      <td>Aquitaine, France</td>\n",
       "      <td>H5</td>\n",
       "      <td>30 kg</td>\n",
       "      <td>NaN</td>\n",
       "      <td>(44.427176, 0.498226)</td>\n",
       "      <td>NaN</td>\n",
       "      <td>kg</td>\n",
       "      <td>30</td>\n",
       "    </tr>\n",
       "    <tr>\n",
       "      <th>1</th>\n",
       "      <td>Aire-sur-la-Lys **</td>\n",
       "      <td>Official</td>\n",
       "      <td>Y</td>\n",
       "      <td>1769</td>\n",
       "      <td>Nord-Pas-de-Calais, France</td>\n",
       "      <td>Unknown</td>\n",
       "      <td>6.8 kg</td>\n",
       "      <td>NaN</td>\n",
       "      <td>(50.609061, 2.486308)</td>\n",
       "      <td>NaN</td>\n",
       "      <td>kg</td>\n",
       "      <td>6</td>\n",
       "    </tr>\n",
       "    <tr>\n",
       "      <th>2</th>\n",
       "      <td>Alais **</td>\n",
       "      <td>Official</td>\n",
       "      <td>Y</td>\n",
       "      <td>1806</td>\n",
       "      <td>Languedoc-Roussillon, France</td>\n",
       "      <td>CI1</td>\n",
       "      <td>6 kg</td>\n",
       "      <td>NaN</td>\n",
       "      <td>(44.057056, 4.184386)</td>\n",
       "      <td>NaN</td>\n",
       "      <td>kg</td>\n",
       "      <td>6</td>\n",
       "    </tr>\n",
       "    <tr>\n",
       "      <th>3</th>\n",
       "      <td>Alby sur Chéran **</td>\n",
       "      <td>Official</td>\n",
       "      <td>Y</td>\n",
       "      <td>2002</td>\n",
       "      <td>Rhone-Alpes, France</td>\n",
       "      <td>Eucrite-mmict</td>\n",
       "      <td>252 g</td>\n",
       "      <td>88.0</td>\n",
       "      <td>(45.818611, 6.001111)</td>\n",
       "      <td>NaN</td>\n",
       "      <td>g</td>\n",
       "      <td>252</td>\n",
       "    </tr>\n",
       "    <tr>\n",
       "      <th>4</th>\n",
       "      <td>Angers **</td>\n",
       "      <td>Official</td>\n",
       "      <td>Y</td>\n",
       "      <td>1822</td>\n",
       "      <td>Pays de la Loire, France</td>\n",
       "      <td>L6</td>\n",
       "      <td>1007 g</td>\n",
       "      <td>NaN</td>\n",
       "      <td>(47.466670, -0.550000)</td>\n",
       "      <td>NaN</td>\n",
       "      <td>g</td>\n",
       "      <td>1007</td>\n",
       "    </tr>\n",
       "  </tbody>\n",
       "</table>\n",
       "</div>"
      ],
      "text/plain": [
       "                 Name    Status Fall  Year                         Place  \\\n",
       "0             Agen **  Official    Y  1814             Aquitaine, France   \n",
       "1  Aire-sur-la-Lys **  Official    Y  1769    Nord-Pas-de-Calais, France   \n",
       "2            Alais **  Official    Y  1806  Languedoc-Roussillon, France   \n",
       "3  Alby sur Chéran **  Official    Y  2002           Rhone-Alpes, France   \n",
       "4           Angers **  Official    Y  1822      Pays de la Loire, France   \n",
       "\n",
       "            Type Mass_str  MetBull              (Lat,Long) Notes Units  Mass  \n",
       "0             H5    30 kg      NaN   (44.427176, 0.498226)   NaN    kg    30  \n",
       "1        Unknown   6.8 kg      NaN   (50.609061, 2.486308)   NaN    kg     6  \n",
       "2            CI1     6 kg      NaN   (44.057056, 4.184386)   NaN    kg     6  \n",
       "3  Eucrite-mmict    252 g     88.0   (45.818611, 6.001111)   NaN     g   252  \n",
       "4             L6   1007 g      NaN  (47.466670, -0.550000)   NaN     g  1007  "
      ]
     },
     "execution_count": 15,
     "metadata": {},
     "output_type": "execute_result"
    }
   ],
   "source": [
    "table[\"Mass\"] = table[\"Mass_str\"].str.extract(r'(^\\d+)')\n",
    "table.head()"
   ]
  },
  {
   "cell_type": "code",
   "execution_count": 16,
   "metadata": {},
   "outputs": [
    {
     "name": "stdout",
     "output_type": "stream",
     "text": [
      "<class 'pandas.core.frame.DataFrame'>\n",
      "Int64Index: 81 entries, 0 to 88\n",
      "Data columns (total 12 columns):\n",
      " #   Column      Non-Null Count  Dtype  \n",
      "---  ------      --------------  -----  \n",
      " 0   Name        81 non-null     object \n",
      " 1   Status      81 non-null     object \n",
      " 2   Fall        66 non-null     object \n",
      " 3   Year        81 non-null     object \n",
      " 4   Place       81 non-null     object \n",
      " 5   Type        81 non-null     object \n",
      " 6   Mass_str    81 non-null     object \n",
      " 7   MetBull     19 non-null     float64\n",
      " 8   (Lat,Long)  81 non-null     object \n",
      " 9   Notes       1 non-null      object \n",
      " 10  Units       81 non-null     object \n",
      " 11  Mass        81 non-null     object \n",
      "dtypes: float64(1), object(11)\n",
      "memory usage: 8.2+ KB\n"
     ]
    }
   ],
   "source": [
    "table.info()"
   ]
  },
  {
   "cell_type": "code",
   "execution_count": 17,
   "metadata": {},
   "outputs": [
    {
     "data": {
      "text/plain": [
       "count      81.000000\n",
       "mean      244.740741\n",
       "std       418.257868\n",
       "min         2.000000\n",
       "25%         6.000000\n",
       "50%        37.000000\n",
       "75%       277.000000\n",
       "max      1820.000000\n",
       "Name: Mass, dtype: float64"
      ]
     },
     "execution_count": 17,
     "metadata": {},
     "output_type": "execute_result"
    }
   ],
   "source": [
    "table['Mass'] = table['Mass'].astype(float)\n",
    "table['Mass'].describe()"
   ]
  },
  {
   "cell_type": "code",
   "execution_count": 18,
   "metadata": {},
   "outputs": [
    {
     "data": {
      "text/plain": [
       "count    81.000000\n",
       "mean      0.244741\n",
       "std       0.418258\n",
       "min       0.002000\n",
       "25%       0.006000\n",
       "50%       0.037000\n",
       "75%       0.277000\n",
       "max       1.820000\n",
       "Name: Mass, dtype: float64"
      ]
     },
     "execution_count": 18,
     "metadata": {},
     "output_type": "execute_result"
    }
   ],
   "source": [
    "table['Mass'] = table['Mass'].where(table['Units'] == 'kg', table['Mass']/1000)\n",
    "table['Mass'].describe()"
   ]
  },
  {
   "cell_type": "code",
   "execution_count": 21,
   "metadata": {},
   "outputs": [
    {
     "data": {
      "text/plain": [
       "count      81.000000\n",
       "mean     1865.716049\n",
       "std        88.891962\n",
       "min      1492.000000\n",
       "25%      1822.000000\n",
       "50%      1856.000000\n",
       "75%      1923.000000\n",
       "max      2014.000000\n",
       "Name: Year, dtype: float64"
      ]
     },
     "execution_count": 21,
     "metadata": {},
     "output_type": "execute_result"
    }
   ],
   "source": [
    "table['Year'] = table['Year'].astype('int32')\n",
    "table['Year'].describe()"
   ]
  },
  {
   "cell_type": "code",
   "execution_count": 25,
   "metadata": {},
   "outputs": [
    {
     "data": {
      "text/plain": [
       "(1800, 1900]    49\n",
       "(1900, 2000]    18\n",
       "(2000, 2100]     5\n",
       "Name: Year, dtype: int64"
      ]
     },
     "execution_count": 25,
     "metadata": {},
     "output_type": "execute_result"
    }
   ],
   "source": [
    "bins = [1800, 1900, 2000, 2100 ]\n",
    "years = pd.cut(table['Year'], bins)\n",
    "pd.value_counts(years)"
   ]
  },
  {
   "cell_type": "code",
   "execution_count": 20,
   "metadata": {},
   "outputs": [
    {
     "data": {
      "image/png": "[encoded data removed]",
      "text/plain": [
       "<Figure size 720x504 with 1 Axes>"
      ]
     },
     "metadata": {
      "needs_background": "light"
     },
     "output_type": "display_data"
    }
   ],
   "source": [
    "_ = table['Mass'].hist(bins= 12, figsize=(10, 7))"
   ]
  },
  {
   "cell_type": "code",
   "execution_count": null,
   "metadata": {},
   "outputs": [],
   "source": []
  },
  {
   "cell_type": "code",
   "execution_count": 30,
   "metadata": {},
   "outputs": [
    {
     "data": {
      "text/plain": [
       "<seaborn.axisgrid.FacetGrid at 0x7f828bd8e070>"
      ]
     },
     "execution_count": 30,
     "metadata": {},
     "output_type": "execute_result"
    },
    {
     "data": {
      "image/png": "[encoded data removed]",
      "text/plain": [
       "<Figure size 216x648 with 3 Axes>"
      ]
     },
     "metadata": {},
     "output_type": "display_data"
    }
   ],
   "source": [
    "columns = [\"Mass\"]\n",
    "sns.set_theme(style=\"darkgrid\")\n",
    "\n",
    "\n",
    "sns.displot(\n",
    "    table, x =\"Mass\", row=years, height=3) \n",
    "    \n"
   ]
  }
 ],
 "metadata": {
  "interpreter": {
   "hash": "7868799b944ab50197e8c71d7295777745e3a85117e243c35018c1cf9641b928"
  },
  "kernelspec": {
   "display_name": "Python 3.10.2 ('scikit-learn-course')",
   "language": "python",
   "name": "python3"
  },
  "language_info": {
   "codemirror_mode": {
    "name": "ipython",
    "version": 3
   },
   "file_extension": ".py",
   "mimetype": "text/x-python",
   "name": "python",
   "nbconvert_exporter": "python",
   "pygments_lexer": "ipython3",
   "version": "3.8.2"
  },
  "orig_nbformat": 4
 },
 "nbformat": 4,
 "nbformat_minor": 2
}
